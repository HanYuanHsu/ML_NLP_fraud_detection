{
 "cells": [
  {
   "cell_type": "markdown",
   "id": "4368c1b3",
   "metadata": {},
   "source": [
    "# Random Forest Model"
   ]
  },
  {
   "cell_type": "code",
   "execution_count": 4,
   "id": "ca500330",
   "metadata": {},
   "outputs": [],
   "source": [
    "import pandas as pd\n",
    "import os\n",
    "def parsing(df):\n",
    "    columns = [\"company_profile\",\"description\",\"requirements\",\"benefits\"]\n",
    "    one_hot_encoding_columns = ['employment_type', \"required_education\", \"required_experience\",\"function.\", \"industry\"]\n",
    "    length = []\n",
    "    for column in columns:\n",
    "        df[(str(column) + \"_length\")] = df[column].apply(lambda x: len(x) if x == x else 0)\n",
    "    df = pd.get_dummies(df, columns = one_hot_encoding_columns)\n",
    "    return df.iloc[:, 9:]\n",
    "\n",
    "jobs = pd.read_csv(\"job_training_data.csv\")\n",
    "jobs = parsing(jobs)\n",
    "feature_matrix = jobs\n",
    "from sklearn.model_selection import train_test_split\n",
    "from sklearn.ensemble import RandomForestClassifier\n",
    "from sklearn.metrics import recall_score\n",
    "from sklearn.metrics import accuracy_score\n",
    "from sklearn.metrics import precision_score\n",
    "from sklearn.metrics import confusion_matrix\n",
    "from sklearn.metrics import classification_report\n",
    "import numpy as np\n",
    "\n",
    "X = feature_matrix.drop(\"fraudulent\", axis = 1)\n",
    "y = feature_matrix.fraudulent\n",
    "y = y.astype(int)\n",
    "X_train, X_test, y_train, y_test = train_test_split(X, y, test_size = 0.3, random_state = 42)\n",
    "rfm = RandomForestClassifier()\n",
    "parameters = {\n",
    "  'n_estimators':np.arange(10,200,10),\n",
    "} \n",
    "from sklearn.model_selection import GridSearchCV\n",
    "cv = GridSearchCV(rfm,parameters,cv=10)\n",
    "cv.fit(X,y.values.ravel())\n",
    "parameters = list(cv.best_params_.items())\n",
    "rfm= RandomForestClassifier(n_estimators = parameters[0][1], oob_score=True)\n",
    "rfm.fit(X_train,y_train)\n",
    "rfm.score(X_train,y_train)\n",
    "y_pred_rfm=rfm.predict(X_test)\n",
    "print('Confusion Matrix')\n",
    "print(confusion_matrix(y_test, y_pred_rfm))\n",
    "print('Classification Report')\n",
    "print(classification_report(y_test, y_pred_rfm))\n",
    "print(\"Accuracy:\", accuracy_score(y_test, y_pred_rfm))\n",
    "print(\"TNR:\",precision_score(y_test, y_pred_rfm))\n",
    "print(\"NPV:\",recall_score(y_test, y_pred_rfm))\n"
   ]
  }
 ],
 "metadata": {
  "kernelspec": {
   "display_name": "Python 3",
   "language": "python",
   "name": "python3"
  },
  "language_info": {
   "codemirror_mode": {
    "name": "ipython",
    "version": 3
   },
   "file_extension": ".py",
   "mimetype": "text/x-python",
   "name": "python",
   "nbconvert_exporter": "python",
   "pygments_lexer": "ipython3",
   "version": "3.8.8"
  }
 },
 "nbformat": 4,
 "nbformat_minor": 5
}
