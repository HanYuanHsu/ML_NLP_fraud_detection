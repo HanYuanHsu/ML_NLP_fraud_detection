{
 "cells": [
  {
   "cell_type": "markdown",
   "id": "1b8f8883",
   "metadata": {},
   "source": [
    "Clean Code"
   ]
  },
  {
   "cell_type": "code",
   "execution_count": 3,
   "id": "e821a08c",
   "metadata": {},
   "outputs": [],
   "source": [
    "# library needed\n",
    "import pandas as pd\n",
    "from sklearn.feature_extraction.text import CountVectorizer\n",
    "import numpy as np\n",
    "import re\n",
    "from sklearn import preprocessing\n",
    "import scipy\n",
    "from sklearn.ensemble import RandomForestClassifier\n",
    "from sklearn.model_selection import GridSearchCV\n",
    "import sklearn"
   ]
  },
  {
   "cell_type": "markdown",
   "id": "faab8e4a",
   "metadata": {},
   "source": [
    "# Parsing"
   ]
  },
  {
   "cell_type": "code",
   "execution_count": 4,
   "id": "53366bfd",
   "metadata": {},
   "outputs": [],
   "source": [
    "def parsing(df):\n",
    "    nacolumns = df.isna().astype('int').iloc[:,:-1]\n",
    "    columns = [\"company_profile\",\"description\",\"requirements\",\"benefits\"]\n",
    "    one_hot_encoding_columns = ['employment_type', \"required_education\", \"required_experience\",\"function.\", \"industry\"]\n",
    "    length = []\n",
    "    for column in columns:\n",
    "        df[(str(column) + \"_length\")] = df[column].apply(lambda x: len(x) if x == x else 0)\n",
    "    df = pd.get_dummies(df, columns = one_hot_encoding_columns)\n",
    "    return df.iloc[:, 9:]\n",
    "    return pd.concat([df.iloc[:, 9:],nacolumns],axis=1)"
   ]
  },
  {
   "cell_type": "code",
   "execution_count": 5,
   "id": "93872fe8",
   "metadata": {},
   "outputs": [],
   "source": [
    "jobs = pd.read_csv(\"job_training_data.csv\")\n",
    "jobs = parsing(jobs)\n",
    "feature_matrix = jobs"
   ]
  },
  {
   "cell_type": "markdown",
   "id": "52eba6ed",
   "metadata": {},
   "source": [
    "# PCA"
   ]
  },
  {
   "cell_type": "code",
   "execution_count": 6,
   "id": "c9d342c3",
   "metadata": {},
   "outputs": [],
   "source": [
    "data_normalized = preprocessing.scale(feature_matrix,with_mean=True,with_std=True)"
   ]
  },
  {
   "cell_type": "code",
   "execution_count": null,
   "id": "297dc873",
   "metadata": {},
   "outputs": [],
   "source": [
    "pca = PCA()\n",
    "pca.fit(data_normalized)\n",
    "components = pca.components_[0:np.where(pca.explained_variance_ratio_.cumsum() > 0.9)[0][0]+1,:]\n",
    "pca_features = np.matmul(data_normalized,np.transpose(components))"
   ]
  }
 ],
 "metadata": {
  "kernelspec": {
   "display_name": "Python 3",
   "language": "python",
   "name": "python3"
  },
  "language_info": {
   "codemirror_mode": {
    "name": "ipython",
    "version": 3
   },
   "file_extension": ".py",
   "mimetype": "text/x-python",
   "name": "python",
   "nbconvert_exporter": "python",
   "pygments_lexer": "ipython3",
   "version": "3.8.8"
  }
 },
 "nbformat": 4,
 "nbformat_minor": 5
}
