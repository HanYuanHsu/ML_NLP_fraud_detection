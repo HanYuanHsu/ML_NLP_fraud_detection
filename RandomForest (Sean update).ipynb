{
 "cells": [
  {
   "cell_type": "markdown",
   "id": "4086ef8e",
   "metadata": {},
   "source": [
    "Clean Code"
   ]
  },
  {
   "cell_type": "code",
   "execution_count": 11,
   "id": "8287eb74",
   "metadata": {},
   "outputs": [],
   "source": [
    "# library needed\n",
    "import pandas as pd\n",
    "from sklearn.feature_extraction.text import CountVectorizer\n",
    "import numpy as np\n",
    "import re\n",
    "from sklearn import preprocessing\n",
    "import scipy\n",
    "from sklearn.ensemble import RandomForestClassifier\n",
    "from sklearn.model_selection import GridSearchCV\n",
    "import sklearn\n",
    "from sklearn.decomposition import PCA\n",
    "from sklearn.model_selection import train_test_split"
   ]
  },
  {
   "cell_type": "markdown",
   "id": "af4912ae",
   "metadata": {},
   "source": [
    "# Parsing"
   ]
  },
  {
   "cell_type": "code",
   "execution_count": 12,
   "id": "2d558cee",
   "metadata": {},
   "outputs": [],
   "source": [
    "def parsing(df):\n",
    "    nacolumns = df.isna().astype('int').iloc[:,:-1]\n",
    "    columns = [\"company_profile\",\"description\",\"requirements\",\"benefits\"]\n",
    "    one_hot_encoding_columns = ['employment_type', \"required_education\", \"required_experience\",\"function.\", \"industry\"]\n",
    "    length = []\n",
    "    for column in columns:\n",
    "        df[(str(column) + \"_length\")] = df[column].apply(lambda x: len(x) if x == x else 0)\n",
    "    df = pd.get_dummies(df, columns = one_hot_encoding_columns)\n",
    "    return df.iloc[:, 9:]\n",
    "    return pd.concat([df.iloc[:, 9:],nacolumns],axis=1)"
   ]
  },
  {
   "cell_type": "code",
   "execution_count": 13,
   "id": "db313eae",
   "metadata": {},
   "outputs": [],
   "source": [
    "jobs = pd.read_csv(\"job_training_data.csv\")\n",
    "jobs = parsing(jobs)\n",
    "feature_matrix = jobs"
   ]
  },
  {
   "cell_type": "markdown",
   "id": "e80182a7",
   "metadata": {},
   "source": [
    "# PCA"
   ]
  },
  {
   "cell_type": "code",
   "execution_count": 14,
   "id": "491f865e",
   "metadata": {},
   "outputs": [],
   "source": [
    "data_normalized = preprocessing.scale(feature_matrix,with_mean=True,with_std=True)"
   ]
  },
  {
   "cell_type": "code",
   "execution_count": 15,
   "id": "aa8782d3",
   "metadata": {},
   "outputs": [],
   "source": [
    "pca = PCA()\n",
    "pca.fit(data_normalized)\n",
    "components = pca.components_[0:np.where(pca.explained_variance_ratio_.cumsum() > 0.9)[0][0]+1,:]\n",
    "pca_features = np.matmul(data_normalized,np.transpose(components))"
   ]
  },
  {
   "cell_type": "code",
   "execution_count": 16,
   "id": "cc97dbce",
   "metadata": {},
   "outputs": [],
   "source": [
    "feature_matrix = pca_features\n",
    "\n",
    "X = pca_features\n",
    "y = jobs.fraudulent\n",
    "y = y.astype(int)\n",
    "X_train, X_test, y_train, y_test = train_test_split(X, y, test_size = 0.3,random_state=42)\n",
    "rfm = RandomForestClassifier(n_estimators = 200,n_jobs=6)\n",
    "\n",
    "rfm = RandomForestClassifier(n_estimators = 200,n_jobs=6)\n",
    "rfm.fit(X_train,y_train)\n",
    "rfm.score(X_train,y_train)\n",
    "y_pred_rfm=rfm.predict(X_test)"
   ]
  },
  {
   "cell_type": "code",
   "execution_count": 17,
   "id": "b54ec17e",
   "metadata": {},
   "outputs": [
    {
     "data": {
      "text/plain": [
       "array([[1543,    0],\n",
       "       [  23,   43]], dtype=int64)"
      ]
     },
     "execution_count": 17,
     "metadata": {},
     "output_type": "execute_result"
    }
   ],
   "source": [
    "sklearn.metrics.confusion_matrix(y_test,y_pred_rfm)"
   ]
  }
 ],
 "metadata": {
  "kernelspec": {
   "display_name": "Python 3",
   "language": "python",
   "name": "python3"
  },
  "language_info": {
   "codemirror_mode": {
    "name": "ipython",
    "version": 3
   },
   "file_extension": ".py",
   "mimetype": "text/x-python",
   "name": "python",
   "nbconvert_exporter": "python",
   "pygments_lexer": "ipython3",
   "version": "3.8.8"
  }
 },
 "nbformat": 4,
 "nbformat_minor": 5
}
