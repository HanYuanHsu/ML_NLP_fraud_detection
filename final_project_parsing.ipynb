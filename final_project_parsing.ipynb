{
 "cells": [
  {
   "cell_type": "code",
   "execution_count": 28,
   "id": "e1fd8165",
   "metadata": {},
   "outputs": [
    {
     "name": "stderr",
     "output_type": "stream",
     "text": [
      "[nltk_data] Downloading package punkt to /Users/yunjaecho/nltk_data...\n",
      "[nltk_data]   Package punkt is already up-to-date!\n"
     ]
    }
   ],
   "source": [
    "import pandas as pd\n",
    "import numpy as np\n",
    "import nltk\n",
    "import os\n",
    "import nltk.corpus # sample text for performing tokenization\n",
    "from nltk.tokenize import word_tokenize\n",
    "from nltk.probability import FreqDist\n",
    "nltk.download('punkt')\n",
    "from tqdm import tqdm\n",
    "import numpy as np\n",
    "import seaborn as sns"
   ]
  },
  {
   "cell_type": "markdown",
   "id": "af75d39d",
   "metadata": {},
   "source": [
    "# Read data"
   ]
  },
  {
   "cell_type": "code",
   "execution_count": 189,
   "id": "c122a559",
   "metadata": {},
   "outputs": [],
   "source": [
    "jobs = pd.read_csv(\"job_training_data.csv\")"
   ]
  },
  {
   "cell_type": "markdown",
   "id": "4f4e330b",
   "metadata": {},
   "source": [
    "# split by is fraud or not"
   ]
  },
  {
   "cell_type": "code",
   "execution_count": 14,
   "id": "db6215e1",
   "metadata": {},
   "outputs": [],
   "source": [
    "fraud = jobs[jobs[\"fraudulent\"] == 1]\n",
    "fraud.to_csv(\"fraudulent.csv\",index = False)\n",
    "not_fraud = jobs[jobs[\"fraudulent\"] == 0]\n",
    "not_fraud.to_csv(\"not_fraudulent.csv\",index = False)"
   ]
  },
  {
   "cell_type": "markdown",
   "id": "cc77ab3c",
   "metadata": {},
   "source": [
    "# Length Counter\n",
    "  - add columns that count the length of the text for each row"
   ]
  },
  {
   "cell_type": "code",
   "execution_count": 16,
   "id": "56836dc1",
   "metadata": {},
   "outputs": [],
   "source": [
    "def length_counter(df,columns = [\"company_profile\",\"description\",\"requirements\",\"benefits\"]):\n",
    "    length = []\n",
    "    for column in columns:\n",
    "        df[(str(column) + \"_length\")] = df[column].apply(lambda x: len(x) if x == x else 0)\n",
    "    return df"
   ]
  },
  {
   "cell_type": "code",
   "execution_count": 6,
   "id": "30664fd4",
   "metadata": {},
   "outputs": [],
   "source": [
    "jobs = length_counter(jobs)"
   ]
  },
  {
   "cell_type": "markdown",
   "id": "143ec883",
   "metadata": {},
   "source": [
    "# Frequency rules"
   ]
  },
  {
   "cell_type": "code",
   "execution_count": 78,
   "id": "85257729",
   "metadata": {},
   "outputs": [],
   "source": [
    "stop_words = {\".\",'a',\n",
    " 'about',\n",
    " 'above',\n",
    " 'after',\n",
    " 'again',\n",
    " 'against',\n",
    " 'ain',\n",
    " 'all',\n",
    " 'am',\n",
    " 'an',\n",
    " 'and',\n",
    " 'any',\n",
    " 'are',\n",
    " 'aren',\n",
    " \"aren't\",\n",
    " 'as',\n",
    " 'at',\n",
    " 'be',\n",
    " 'because',\n",
    " 'been',\n",
    " 'before',\n",
    " 'being',\n",
    " 'below',\n",
    " 'between',\n",
    " 'both',\n",
    " 'but',\n",
    " 'by',\n",
    " 'can',\n",
    " 'couldn',\n",
    " \"couldn't\",\n",
    " 'd',\n",
    " 'did',\n",
    " 'didn',\n",
    " \"didn't\",\n",
    " 'do',\n",
    " 'does',\n",
    " 'doesn',\n",
    " \"doesn't\",\n",
    " 'doing',\n",
    " 'don',\n",
    " \"don't\",\n",
    " 'down',\n",
    " 'during',\n",
    " 'each',\n",
    " 'few',\n",
    " 'for',\n",
    " 'from',\n",
    " 'further',\n",
    " 'had',\n",
    " 'hadn',\n",
    " \"hadn't\",\n",
    " 'has',\n",
    " 'hasn',\n",
    " \"hasn't\",\n",
    " 'have',\n",
    " 'haven',\n",
    " \"haven't\",\n",
    " 'having',\n",
    " 'he',\n",
    " 'her',\n",
    " 'here',\n",
    " 'hers',\n",
    " 'herself',\n",
    " 'him',\n",
    " 'himself',\n",
    " 'his',\n",
    " 'how',\n",
    " 'i',\n",
    " 'if',\n",
    " 'in',\n",
    " 'into',\n",
    " 'is',\n",
    " 'isn',\n",
    " \"isn't\",\n",
    " 'it',\n",
    " \"it's\",\n",
    " 'its',\n",
    " 'itself',\n",
    " 'just',\n",
    " 'll',\n",
    " 'm',\n",
    " 'ma',\n",
    " 'me',\n",
    " 'mightn',\n",
    " \"mightn't\",\n",
    " 'more',\n",
    " 'most',\n",
    " 'mustn',\n",
    " \"mustn't\",\n",
    " 'my',\n",
    " 'myself',\n",
    " 'needn',\n",
    " \"needn't\",\n",
    " 'no',\n",
    " 'nor',\n",
    " 'not',\n",
    " 'now',\n",
    " 'o',\n",
    " 'of',\n",
    " 'off',\n",
    " 'on',\n",
    " 'once',\n",
    " 'only',\n",
    " 'or',\n",
    " 'other',\n",
    " 'our',\n",
    " 'ours',\n",
    " 'ourselves',\n",
    " 'out',\n",
    " 'over',\n",
    " 'own',\n",
    " 're',\n",
    " 's',\n",
    " 'same',\n",
    " 'shan',\n",
    " \"shan't\",\n",
    " 'she',\n",
    " \"she's\",\n",
    " 'should',\n",
    " \"should've\",\n",
    " 'shouldn',\n",
    " \"shouldn't\",\n",
    " 'so',\n",
    " 'some',\n",
    " 'such',\n",
    " 't',\n",
    " 'than',\n",
    " 'that',\n",
    " \"that'll\",\n",
    " 'the',\n",
    " 'their',\n",
    " 'theirs',\n",
    " 'them',\n",
    " 'themselves',\n",
    " 'then',\n",
    " 'there',\n",
    " 'these',\n",
    " 'they',\n",
    " 'this',\n",
    " 'those',\n",
    " 'through',\n",
    " 'to',\n",
    " 'too',\n",
    " 'under',\n",
    " 'until',\n",
    " 'up',\n",
    " 've',\n",
    " 'very',\n",
    " 'was',\n",
    " 'wasn',\n",
    " \"wasn't\",\n",
    " 'we',\n",
    " 'were',\n",
    " 'weren',\n",
    " \"weren't\",\n",
    " 'what',\n",
    " 'when',\n",
    " 'where',\n",
    " 'which',\n",
    " 'while',\n",
    " 'who',\n",
    " 'whom',\n",
    " 'why',\n",
    " 'will',\n",
    " 'with',\n",
    " 'won',\n",
    " \"won't\",\n",
    " 'wouldn',\n",
    " \"wouldn't\",\n",
    " 'y',\n",
    " 'you',\n",
    " \"you'd\",\n",
    " \"you'll\",\n",
    " \"you're\",\n",
    " \"you've\",\n",
    " 'your',\n",
    " 'yours',\n",
    " 'yourself',\n",
    " 'yourselves',\"us\"}\n"
   ]
  },
  {
   "cell_type": "code",
   "execution_count": 19,
   "id": "b9eb6414",
   "metadata": {},
   "outputs": [],
   "source": [
    "def get_freq(text):\n",
    "    tokens = word_tokenize(text.lower()) # needs punkt package\n",
    "    # I also turned text to lower case\n",
    "    num_tokens = len(tokens)\n",
    "    \n",
    "    fdist = FreqDist(tokens) # make frequency dictionary\n",
    "    # remove unwanted words\n",
    "    for word in stop_words:\n",
    "        if word in fdist:\n",
    "            fdist.pop(word)\n",
    "    \n",
    "    for t in fdist:\n",
    "        fdist[t] = fdist[t] / num_tokens\n",
    "        \n",
    "    return fdist"
   ]
  },
  {
   "cell_type": "markdown",
   "id": "b5aaa9f4",
   "metadata": {},
   "source": [
    "# merge_and_tokenize\n",
    " - merge all the text and generate the frequency table that cotains only words with minimum count k. "
   ]
  },
  {
   "cell_type": "code",
   "execution_count": 200,
   "id": "b4f71a96",
   "metadata": {},
   "outputs": [],
   "source": [
    "def merge_and_tokenize(df,column = \"company_profile\",k = 0):\n",
    "    merged_text = []\n",
    "    text_dict = {}\n",
    "    parsed_row = []\n",
    "    for sentence in df[column]:\n",
    "        if sentence == sentence:\n",
    "            words = sentence.lower().split()\n",
    "            words = [w.strip().strip(\"'\").strip('\"').strip(\",\").strip(\"(\").strip(\")\").strip(\".\").strip(\";\").strip(\":\") for w in words]\n",
    "            for word in words: # remove stop words\n",
    "                if \"url\" in str(word):\n",
    "                    words.remove(word)\n",
    "                if word in stop_words:\n",
    "                    words.remove(word)\n",
    "            parsed_row.append(words)\n",
    "            merged_text.extend(words)\n",
    "        else:\n",
    "            parsed_row.append(np.nan)\n",
    "            \n",
    "    fdist = FreqDist(merged_text)\n",
    "    \n",
    "    keys = list(fdist.keys())\n",
    "    \n",
    "    for key in keys:\n",
    "        if fdist[key] <= k:\n",
    "            del fdist[key]\n",
    "        else:\n",
    "            fdist[key] =0\n",
    "            \n",
    "    return fdist,parsed_row"
   ]
  },
  {
   "cell_type": "markdown",
   "id": "38acda0c",
   "metadata": {},
   "source": [
    "# parsed_frequency\n",
    " - return the list of frequency for each row"
   ]
  },
  {
   "cell_type": "code",
   "execution_count": 226,
   "id": "9153d19d",
   "metadata": {},
   "outputs": [],
   "source": [
    "def parsed_frequency(freq_dic,parsed_text):\n",
    "    parsed_dict = freq_dic.copy()\n",
    "    freq_list = []\n",
    "    \n",
    "    for text in tqdm(parsed_text):\n",
    "        parsed_dict = freq_dic.copy()\n",
    "        if text == text:\n",
    "            for word in text:\n",
    "                if word in parsed_dict:\n",
    "                    parsed_dict[word] += 1/len(text)\n",
    "        else:\n",
    "            freq_list.append(np.nan)\n",
    "        \n",
    "        freq_list.append(parsed_dict)\n",
    "        \n",
    "    return freq_list"
   ]
  },
  {
   "cell_type": "code",
   "execution_count": 229,
   "id": "48caf119",
   "metadata": {},
   "outputs": [
    {
     "name": "stderr",
     "output_type": "stream",
     "text": [
      "100%|█████████████████████████████████████| 5362/5362 [00:03<00:00, 1354.73it/s]\n"
     ]
    }
   ],
   "source": [
    "company_dict,parsed_company = merge_and_tokenize(jobs,\"company_profile\",3)\n",
    "company_text_freq = parsed_frequency(company_dict,parsed_company)"
   ]
  },
  {
   "cell_type": "code",
   "execution_count": 224,
   "id": "2b484b60",
   "metadata": {},
   "outputs": [
    {
     "name": "stderr",
     "output_type": "stream",
     "text": [
      "100%|██████████████████████████████████████| 5362/5362 [00:05<00:00, 959.95it/s]\n"
     ]
    }
   ],
   "source": [
    "description_dict,parsed_description = merge_and_tokenize(jobs,\"description\",3)\n",
    "description_text_freq = parsed_frequency(description_dict,parsed_description) # list of freq for each row"
   ]
  },
  {
   "cell_type": "code",
   "execution_count": 227,
   "id": "315e8ca3",
   "metadata": {},
   "outputs": [
    {
     "name": "stderr",
     "output_type": "stream",
     "text": [
      "100%|██████████████████████████████████████| 5362/5362 [00:05<00:00, 914.54it/s]\n"
     ]
    }
   ],
   "source": [
    "requirements_dict,parsed_requirements = merge_and_tokenize(jobs,\"requirements\",3)\n",
    "requirements_text_freq = parsed_frequency(requirements_dict,parsed_requirements)"
   ]
  },
  {
   "cell_type": "code",
   "execution_count": 228,
   "id": "240ee543",
   "metadata": {},
   "outputs": [
    {
     "name": "stderr",
     "output_type": "stream",
     "text": [
      "100%|█████████████████████████████████████| 5362/5362 [00:01<00:00, 2871.20it/s]\n"
     ]
    }
   ],
   "source": [
    "benefits_dict,parsed_benefits = merge_and_tokenize(jobs,\"benefits\",3)\n",
    "benefits_text_freq = parsed_frequency(benefits_dict,parsed_benefits)"
   ]
  }
 ],
 "metadata": {
  "kernelspec": {
   "display_name": "Python 3 (ipykernel)",
   "language": "python",
   "name": "python3"
  },
  "language_info": {
   "codemirror_mode": {
    "name": "ipython",
    "version": 3
   },
   "file_extension": ".py",
   "mimetype": "text/x-python",
   "name": "python",
   "nbconvert_exporter": "python",
   "pygments_lexer": "ipython3",
   "version": "3.9.7"
  }
 },
 "nbformat": 4,
 "nbformat_minor": 5
}
