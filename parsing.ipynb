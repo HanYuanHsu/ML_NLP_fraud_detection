{
 "cells": [
  {
   "cell_type": "code",
   "execution_count": 1,
   "id": "d2f236e5",
   "metadata": {},
   "outputs": [],
   "source": [
    "# library needed\n",
    "import numpy as np\n",
    "import pandas as pd\n",
    "from sklearn.feature_extraction.text import CountVectorizer\n",
    "import string\n",
    "import re"
   ]
  },
  {
   "cell_type": "code",
   "execution_count": 2,
   "id": "413fe2ac",
   "metadata": {},
   "outputs": [],
   "source": [
    "dat = pd.read_csv(\"./job_training_data.csv\")"
   ]
  },
  {
   "cell_type": "code",
   "execution_count": 3,
   "id": "636ae7f6",
   "metadata": {},
   "outputs": [],
   "source": [
    "# main parsing function\n",
    "# dat: the raw pandas dataframe\n",
    "# stop_words: a set of words to omitt when parsing\n",
    "def parsing(dat, stop_words):\n",
    "    \n",
    "    # let character rows be merged into one single text (only for columns of type 'object')\n",
    "    data = dat.fillna('NaN')\n",
    "    data_object_colnames = data.columns[data.dtypes == 'object']\n",
    "    text = data[data_object_colnames].agg(' '.join, axis=1)\n",
    "    \n",
    "    # results for parsing\n",
    "    vectorizer = CountVectorizer(stop_words=stop_words)\n",
    "    result = pd.DataFrame.sparse.from_spmatrix(vectorizer.fit_transform(text))\n",
    "    \n",
    "    # merge parsed results, number of NA for each field, numeric columns (less fraud and job id)\n",
    "    cleaned_data = pd.concat([result,\n",
    "                              dat.isna().astype('int'),\n",
    "                              dat.loc[:,dat.dtypes == 'int64'].iloc[:,1:4]], axis = 1, ignore_index=True)\n",
    "    return cleaned_data\n",
    "    "
   ]
  },
  {
   "cell_type": "code",
   "execution_count": null,
   "id": "bb56feb8",
   "metadata": {},
   "outputs": [],
   "source": [
    "stop_words = {\"a\", \"the\"}\n",
    "result = parsing(dat, sto)"
   ]
  },
  {
   "cell_type": "markdown",
   "id": "15e6936f",
   "metadata": {},
   "source": [
    "# Below are code for thought process (can ignore)"
   ]
  },
  {
   "cell_type": "code",
   "execution_count": null,
   "id": "5b9be00e",
   "metadata": {},
   "outputs": [],
   "source": [
    "# takes in a text\n",
    "# gets rid of punctuation\n",
    "def ridpunctuation(text):\n",
    "    returnre.sub(r'[^\\w\\s]', '', text)"
   ]
  },
  {
   "cell_type": "code",
   "execution_count": null,
   "id": "8527fa17",
   "metadata": {
    "scrolled": true
   },
   "outputs": [],
   "source": [
    "# Method 1\n",
    "# let character rows be merged into one single text\n",
    "data = dat.fillna(' NaN ')\n",
    "data_object_colnames = data.columns[data.dtypes == 'object']\n",
    "text = data[data_object_colnames[0]]\n",
    "for col in range(1,len(data_object_colnames)):\n",
    "    text = text + data[data_object_colnames[col]]"
   ]
  },
  {
   "cell_type": "code",
   "execution_count": null,
   "id": "f4d30304",
   "metadata": {},
   "outputs": [],
   "source": [
    "# Method 2\n",
    "data = dat.fillna('NaN')\n",
    "data_object_colnames = data.columns[data.dtypes == 'object']\n",
    "text = data[data_object_colnames].agg(' '.join, axis=1)"
   ]
  },
  {
   "cell_type": "code",
   "execution_count": null,
   "id": "61f9b507",
   "metadata": {},
   "outputs": [],
   "source": [
    "# stop_words\n",
    "stop_words = {'a', 'the'}"
   ]
  },
  {
   "cell_type": "code",
   "execution_count": null,
   "id": "ff2a71d7",
   "metadata": {},
   "outputs": [],
   "source": [
    "# results for parsing\n",
    "vectorizer = CountVectorizer(stop_words=stop_words)\n",
    "result = pd.DataFrame.sparse.from_spmatrix(vectorizer.fit_transform(text))"
   ]
  },
  {
   "cell_type": "code",
   "execution_count": null,
   "id": "8d5e90e4",
   "metadata": {},
   "outputs": [],
   "source": [
    "# NA info \n",
    "cleaned_data = pd.concat([result ,dat.isna().astype('int'),dat.loc[:,dat.dtypes == 'int64'].iloc[:,1:4]],axis = 1,ignore_index=True)"
   ]
  },
  {
   "cell_type": "markdown",
   "id": "6434cd11",
   "metadata": {},
   "source": [
    "# Below are scratch code (can ignore)"
   ]
  },
  {
   "cell_type": "code",
   "execution_count": null,
   "id": "d437fd5d",
   "metadata": {},
   "outputs": [],
   "source": [
    "test_series = pd.DataFrame({\"a\":['hello\"s , hello hello,hi you are',\"hello hello today's\\xa0Document Hello\"]})"
   ]
  },
  {
   "cell_type": "code",
   "execution_count": null,
   "id": "8a179097",
   "metadata": {},
   "outputs": [],
   "source": [
    "# save results of parsing\n",
    "vectorizer = CountVectorizer()\n",
    "result = vectorizer.fit_transform(test_series['a'])"
   ]
  },
  {
   "cell_type": "code",
   "execution_count": null,
   "id": "c6955cf6",
   "metadata": {
    "scrolled": true
   },
   "outputs": [],
   "source": [
    "pd.DataFrame.sparse.from_spmatrix(result)"
   ]
  },
  {
   "cell_type": "code",
   "execution_count": null,
   "id": "75defd08",
   "metadata": {},
   "outputs": [],
   "source": [
    "vectorizer.vocabulary_"
   ]
  },
  {
   "cell_type": "code",
   "execution_count": null,
   "id": "057628d8",
   "metadata": {
    "scrolled": true
   },
   "outputs": [],
   "source": [
    "test = CountVectorizer().fit_transform(data.iloc[:,1])\n",
    "test_names\n",
    "pd.DataFrame.sparse.from_spmatrix(test)"
   ]
  },
  {
   "cell_type": "code",
   "execution_count": null,
   "id": "3671c5f2",
   "metadata": {
    "scrolled": true
   },
   "outputs": [],
   "source": [
    "def parsing_series(series):\n",
    "    sparse_parse = CountVectorizer(stop_words=stop_words).fit_transform(series)\n",
    "    pandas.DataFrame.sparse.from_spmatrix\n"
   ]
  },
  {
   "cell_type": "code",
   "execution_count": null,
   "id": "9e6bebf4",
   "metadata": {},
   "outputs": [],
   "source": [
    "data"
   ]
  },
  {
   "cell_type": "code",
   "execution_count": null,
   "id": "f6c5b24c",
   "metadata": {},
   "outputs": [],
   "source": [
    "def parsing(col):\n",
    "    "
   ]
  },
  {
   "cell_type": "code",
   "execution_count": null,
   "id": "7541a5cc",
   "metadata": {},
   "outputs": [],
   "source": [
    "# concat na to \n",
    "pd.concat([data ,data.isna().astype('int')],axis = 1,ignore_index=True)"
   ]
  },
  {
   "cell_type": "code",
   "execution_count": null,
   "id": "122baa23",
   "metadata": {},
   "outputs": [],
   "source": [
    "pd.concat()"
   ]
  }
 ],
 "metadata": {
  "kernelspec": {
   "display_name": "Python 3",
   "language": "python",
   "name": "python3"
  },
  "language_info": {
   "codemirror_mode": {
    "name": "ipython",
    "version": 3
   },
   "file_extension": ".py",
   "mimetype": "text/x-python",
   "name": "python",
   "nbconvert_exporter": "python",
   "pygments_lexer": "ipython3",
   "version": "3.8.8"
  }
 },
 "nbformat": 4,
 "nbformat_minor": 5
}
