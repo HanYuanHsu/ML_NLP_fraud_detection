{
 "cells": [
  {
   "cell_type": "code",
   "execution_count": 2,
   "id": "ec3ca262",
   "metadata": {},
   "outputs": [],
   "source": [
    "import pandas as pd\n",
    "import numpy as np"
   ]
  },
  {
   "cell_type": "code",
   "execution_count": null,
   "id": "be078b09",
   "metadata": {},
   "outputs": [],
   "source": [
    "# colnames: a list of column names\n",
    "# variables returned are:\n",
    "# best: the best colname with one feature removed, that is, the colname with the least significant feature removed\n",
    "# error: the MSE corresponding to that best \n",
    "def backward_selection_helper(colnames, X, test_data):\n",
    "    best = colnames\n",
    "    error = np.Inf\n",
    "    \n",
    "    for i in range(len(colnames)): \n",
    "        # remove item i\n",
    "        colnames1 = colnames.copy()\n",
    "        colnames1.pop(i)\n",
    "        \n",
    "        pred = rf_predict(X[colnames1], test_data)\n",
    "        mse = np.mean((test_data - pred)^2)\n",
    "        \n",
    "        if (mse < error):\n",
    "            error = mse\n",
    "            best = colnames1\n",
    "    \n",
    "    return best, error\n",
    "\n",
    "def backward_selection(X, test_data):\n",
    "    best = X.columns\n",
    "    error = np.Inf\n",
    "    current_best = X.columns\n",
    "    current_error = np.Inf\n",
    "    \n",
    "    while current_best.notempty():\n",
    "        current_best, current_error = backward_selection_helper(current_best, X, test_data)\n",
    "        if current_error < error:\n",
    "            error = current_error\n",
    "            best = current_best\n",
    "            \n",
    "    return best, error   \n"
   ]
  },
  {
   "cell_type": "code",
   "execution_count": 14,
   "id": "7aa55784",
   "metadata": {},
   "outputs": [
    {
     "data": {
      "text/plain": [
       "['telecommuting']"
      ]
     },
     "execution_count": 14,
     "metadata": {},
     "output_type": "execute_result"
    }
   ],
   "source": [
    "X = pd.read_csv('jobs_feature.csv')\n",
    "l = ['telecommuting', 'has_company_logo']\n",
    "l.pop()\n",
    "l"
   ]
  },
  {
   "cell_type": "code",
   "execution_count": 21,
   "id": "c255f712",
   "metadata": {},
   "outputs": [
    {
     "ename": "AttributeError",
     "evalue": "'Index' object has no attribute 'list'",
     "output_type": "error",
     "traceback": [
      "\u001b[1;31m---------------------------------------------------------------------------\u001b[0m",
      "\u001b[1;31mAttributeError\u001b[0m                            Traceback (most recent call last)",
      "\u001b[1;32m<ipython-input-21-fb8bd1dc984b>\u001b[0m in \u001b[0;36m<module>\u001b[1;34m\u001b[0m\n\u001b[1;32m----> 1\u001b[1;33m \u001b[0mX\u001b[0m\u001b[1;33m.\u001b[0m\u001b[0mcolumns\u001b[0m\u001b[1;33m.\u001b[0m\u001b[0mlist\u001b[0m\u001b[1;33m\u001b[0m\u001b[1;33m\u001b[0m\u001b[0m\n\u001b[0m",
      "\u001b[1;31mAttributeError\u001b[0m: 'Index' object has no attribute 'list'"
     ]
    }
   ],
   "source": [
    "X.columns"
   ]
  },
  {
   "cell_type": "code",
   "execution_count": null,
   "id": "1e50353d",
   "metadata": {},
   "outputs": [],
   "source": []
  }
 ],
 "metadata": {
  "kernelspec": {
   "display_name": "Python 3",
   "language": "python",
   "name": "python3"
  },
  "language_info": {
   "codemirror_mode": {
    "name": "ipython",
    "version": 3
   },
   "file_extension": ".py",
   "mimetype": "text/x-python",
   "name": "python",
   "nbconvert_exporter": "python",
   "pygments_lexer": "ipython3",
   "version": "3.8.8"
  }
 },
 "nbformat": 4,
 "nbformat_minor": 5
}
